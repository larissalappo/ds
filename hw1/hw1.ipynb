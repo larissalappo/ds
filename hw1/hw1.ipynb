{
  "nbformat": 4,
  "nbformat_minor": 0,
  "metadata": {
    "colab": {
      "provenance": []
    },
    "kernelspec": {
      "name": "python3",
      "display_name": "Python 3"
    },
    "language_info": {
      "name": "python"
    }
  },
  "cells": [
    {
      "cell_type": "code",
      "execution_count": 1,
      "metadata": {
        "id": "v3pcuGcomsMl",
        "colab": {
          "base_uri": "https://localhost:8080/"
        },
        "outputId": "4e759a62-6fa9-4cd1-8669-27817c2cfef1"
      },
      "outputs": [
        {
          "output_type": "stream",
          "name": "stdout",
          "text": [
            "Города, которые есть в первом множестве, но отсутствуют во втором:\n",
            "{'Новосибирск', 'Екатеринбург', 'Минск', 'Москва'}\n"
          ]
        }
      ],
      "source": [
        "# Создание двух множеств городов\n",
        "cities_set1 = {\"Минск\", \"Москва\", \"Санкт-Петербург\", \"Новосибирск\", \"Екатеринбург\"}\n",
        "cities_set2 = {\"Санкт-Петербург\", \"Казань\", \"Нижний Новгород\"}\n",
        "\n",
        "# Находим города, которые есть в первом множестве, но отсутствуют во втором\n",
        "cities_difference = cities_set1 - cities_set2\n",
        "\n",
        "# Вывод результата\n",
        "print(\"Города, которые есть в первом множестве, но отсутствуют во втором:\")\n",
        "print(cities_difference)"
      ]
    }
  ]
}